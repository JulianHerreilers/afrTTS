{
 "cells": [
  {
   "cell_type": "code",
   "execution_count": 36,
   "metadata": {},
   "outputs": [
    {
     "name": "stdout",
     "output_type": "stream",
     "text": [
      "['11_s1', '3_s2', '24_s1', '18_s2', '20_s1', '25_s2', '4_s1', '16_s1', '19_s1', '19_s2', '14_s1', '15_s1', '15_s2', '9_s1', '2_s1', '1_s2', '2_s2', '21_s1', '5_s2', '6_s1', '21_s2', '20_s2', '22_s2', '18_s1', '10_s1', '17_s2', '4_s2', '8_s1', '9_s2', '25_s1', '17_s1', '8_s2', '5_s1', '13_s1', '22_s1', '3_s1', '12_s1', '23_s2', '10_s2', '23_s1', '24_s2', '13_s2', '6_s2', '7_s1', '11_s2', '14_s2', '1_s1', '16_s2', '12_s2', '7_s2']\n",
      "['11.1', '3.2', '24.1', '18.2', '20.1', '25.2', '4.1', '16.1', '19.1', '19.2', '14.1', '15.1', '15.2', '9.1', '2.1', '1.2', '2.2', '21.1', '5.2', '6.1', '21.2', '20.2', '22.2', '18.1', '10.1', '17.2', '4.2', '8.1', '9.2', '25.1', '17.1', '8.2', '5.1', '13.1', '22.1', '3.1', '12.1', '23.2', '10.2', '23.1', '24.2', '13.2', '6.2', '7.1', '11.2', '14.2', '1.1', '16.2', '12.2', '7.2']\n",
      "['1_s1', '1_s2', '2_s1', '2_s2', '3_s1', '3_s2', '4_s1', '4_s2', '5_s1', '5_s2', '6_s1', '6_s2', '7_s1', '7_s2', '8_s1', '8_s2', '9_s1', '9_s2', '10_s1', '10_s2', '11_s1', '11_s2', '12_s1', '12_s2', '13_s1', '13_s2', '14_s1', '14_s2', '15_s1', '15_s2', '16_s1', '16_s2', '17_s1', '17_s2', '18_s1', '18_s2', '19_s1', '19_s2', '20_s1', '20_s2', '21_s1', '21_s2', '22_s1', '22_s2', '23_s1', '23_s2', '24_s1', '24_s2', '25_s1', '25_s2']\n"
     ]
    }
   ],
   "source": [
    "import os\n",
    "\n",
    "labelled_file_names = []\n",
    "for file in os.listdir(\"../Skripsie Demo Samples/\"):\n",
    "    if file.endswith(\".wav\"):\n",
    "        labelled_file_names.append(file.replace(\".wav\",\"\"))\n",
    "print(labelled_file_names)\n",
    "modified_names = []\n",
    "for i in labelled_file_names:\n",
    "    if \"_s2\" in i:\n",
    "        modified_names.append(i.replace(\"_s2\",\".2\"))\n",
    "    else:\n",
    "        modified_names.append(i.replace(\"_s1\",\".1\"))\n",
    "\n",
    "print(modified_names)\n",
    "modified_names = [float(i) for i in modified_names]\n",
    "modified_names = sorted(modified_names)\n",
    "modified_names = [str(i) for i in modified_names]\n",
    "temp = []\n",
    "\n",
    "for i in modified_names:\n",
    "    if \".2\" in i:\n",
    "        temp.append(i.replace(\".2\",\"_s2\"))\n",
    "    else:\n",
    "        temp.append(i.replace(\".1\",\"_s1\"))\n",
    "modified_names = temp\n",
    "print(modified_names)"
   ]
  },
  {
   "cell_type": "code",
   "execution_count": 37,
   "metadata": {},
   "outputs": [
    {
     "name": "stdout",
     "output_type": "stream",
     "text": [
      "['a26', 'a50', 'a12', 'a18', 'a4', 'a23', 'a20', 'a47', 'a11', 'a7', 'a46', 'a27', 'a25', 'a48', 'a14', 'a22', 'a10', 'a2', 'a19', 'a6', 'a3', 'a40', 'a32', 'a37', 'a29', 'a30', 'a8', 'a43', 'a28', 'a21', 'a34', 'a33', 'a42', 'a13', 'a15', 'a36', 'a17', 'a44', 'a1', 'a45', 'a5', 'a49', 'a41', 'a31', 'a39', 'a24', 'a9', 'a35', 'a38', 'a16']\n"
     ]
    }
   ],
   "source": [
    "import random\n",
    "random.seed(3)\n",
    "unseen_names = []\n",
    "for i in range(1,51):\n",
    "    unseen_names.append(f\"a{i}\")\n",
    "unseen_shuffled = unseen_names\n",
    "random.shuffle(unseen_shuffled)\n",
    "print(unseen_shuffled)"
   ]
  },
  {
   "cell_type": "code",
   "execution_count": 38,
   "metadata": {},
   "outputs": [
    {
     "name": "stdout",
     "output_type": "stream",
     "text": [
      "['1_s1', '1_s2', '2_s1', '2_s2', '3_s1', '3_s2', '4_s1', '4_s2', '5_s1', '5_s2', '6_s1', '6_s2', '7_s1', '7_s2', '8_s1', '8_s2', '9_s1', '9_s2', '10_s1', '10_s2', '11_s1', '11_s2', '12_s1', '12_s2', '13_s1', '13_s2', '14_s1', '14_s2', '15_s1', '15_s2', '16_s1', '16_s2', '17_s1', '17_s2', '18_s1', '18_s2', '19_s1', '19_s2', '20_s1', '20_s2', '21_s1', '21_s2', '22_s1', '22_s2', '23_s1', '23_s2', '24_s1', '24_s2', '25_s1', '25_s2']\n",
      "['a26', 'a50', 'a12', 'a18', 'a4', 'a23', 'a20', 'a47', 'a11', 'a7', 'a46', 'a27', 'a25', 'a48', 'a14', 'a22', 'a10', 'a2', 'a19', 'a6', 'a3', 'a40', 'a32', 'a37', 'a29', 'a30', 'a8', 'a43', 'a28', 'a21', 'a34', 'a33', 'a42', 'a13', 'a15', 'a36', 'a17', 'a44', 'a1', 'a45', 'a5', 'a49', 'a41', 'a31', 'a39', 'a24', 'a9', 'a35', 'a38', 'a16']\n",
      "[('1_s1', 'a26'), ('1_s2', 'a50'), ('2_s1', 'a12'), ('2_s2', 'a18'), ('3_s1', 'a4'), ('3_s2', 'a23'), ('4_s1', 'a20'), ('4_s2', 'a47'), ('5_s1', 'a11'), ('5_s2', 'a7'), ('6_s1', 'a46'), ('6_s2', 'a27'), ('7_s1', 'a25'), ('7_s2', 'a48'), ('8_s1', 'a14'), ('8_s2', 'a22'), ('9_s1', 'a10'), ('9_s2', 'a2'), ('10_s1', 'a19'), ('10_s2', 'a6'), ('11_s1', 'a3'), ('11_s2', 'a40'), ('12_s1', 'a32'), ('12_s2', 'a37'), ('13_s1', 'a29'), ('13_s2', 'a30'), ('14_s1', 'a8'), ('14_s2', 'a43'), ('15_s1', 'a28'), ('15_s2', 'a21'), ('16_s1', 'a34'), ('16_s2', 'a33'), ('17_s1', 'a42'), ('17_s2', 'a13'), ('18_s1', 'a15'), ('18_s2', 'a36'), ('19_s1', 'a17'), ('19_s2', 'a44'), ('20_s1', 'a1'), ('20_s2', 'a45'), ('21_s1', 'a5'), ('21_s2', 'a49'), ('22_s1', 'a41'), ('22_s2', 'a31'), ('23_s1', 'a39'), ('23_s2', 'a24'), ('24_s1', 'a9'), ('24_s2', 'a35'), ('25_s1', 'a38'), ('25_s2', 'a16')]\n"
     ]
    }
   ],
   "source": [
    "print(modified_names)\n",
    "print(unseen_shuffled)\n",
    "combined = []\n",
    "for i, j in zip(modified_names, unseen_names):\n",
    "    combined.append((i,j))\n",
    "print(combined)"
   ]
  },
  {
   "cell_type": "code",
   "execution_count": 47,
   "metadata": {},
   "outputs": [],
   "source": [
    "import shutil\n",
    "\n",
    "#make a copy of the invoice to work with\n",
    "src= \"../Skripsie Demo Samples/\"\n",
    "dst= \"../Skripsie Demo Samples unseen/\"\n",
    "for i,j in combined:\n",
    "    shutil.copy(src+f\"{i}.wav\",dst+f\"{j}.wav\")"
   ]
  },
  {
   "cell_type": "code",
   "execution_count": 26,
   "metadata": {},
   "outputs": [
    {
     "data": {
      "text/plain": [
       "<module 'random' from '/usr/lib/python3.8/random.py'>"
      ]
     },
     "execution_count": 26,
     "metadata": {},
     "output_type": "execute_result"
    }
   ],
   "source": [
    "import random\n",
    "random.seed('5')\n",
    "random"
   ]
  },
  {
   "cell_type": "code",
   "execution_count": 31,
   "metadata": {},
   "outputs": [
    {
     "data": {
      "text/plain": [
       "0.06200278929699676"
      ]
     },
     "execution_count": 31,
     "metadata": {},
     "output_type": "execute_result"
    }
   ],
   "source": [
    "random.random()"
   ]
  }
 ],
 "metadata": {
  "kernelspec": {
   "display_name": "Python 3.8.10 64-bit",
   "language": "python",
   "name": "python3"
  },
  "language_info": {
   "codemirror_mode": {
    "name": "ipython",
    "version": 3
   },
   "file_extension": ".py",
   "mimetype": "text/x-python",
   "name": "python",
   "nbconvert_exporter": "python",
   "pygments_lexer": "ipython3",
   "version": "3.8.10"
  },
  "orig_nbformat": 4,
  "vscode": {
   "interpreter": {
    "hash": "916dbcbb3f70747c44a77c7bcd40155683ae19c65e1c03b4aa3499c5328201f1"
   }
  }
 },
 "nbformat": 4,
 "nbformat_minor": 2
}
